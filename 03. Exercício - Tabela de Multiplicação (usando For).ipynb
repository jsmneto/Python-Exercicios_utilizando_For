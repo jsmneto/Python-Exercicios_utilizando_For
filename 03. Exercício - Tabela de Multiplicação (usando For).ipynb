{
 "cells": [
  {
   "cell_type": "code",
   "execution_count": 1,
   "id": "5b3539e6-1abb-4f75-aa68-98aa98882760",
   "metadata": {},
   "outputs": [
    {
     "name": "stdout",
     "output_type": "stream",
     "text": [
      "\n"
     ]
    }
   ],
   "source": [
    "\"\"\"\n",
    "Exercício: Tabela de Multiplicação\n",
    "\n",
    "Objetivo: Escreva um programa que peça ao usuário um número inteiro positivo NN e \n",
    "exiba a tabela de multiplicação para esse número, de 1 a 10. Utilize um loop for para esta tarefa.\n",
    "\n",
    "Etapas:\n",
    "\n",
    "    - Solicite ao usuário um número inteiro positivo NN.\n",
    "    - Utilize um loop for para iterar de 1 a 10.\n",
    "    - Para cada iteração, multiplique o número NN pelo valor da iteração e imprima o resultado.\n",
    "    \n",
    "Exemplo de Saída:\n",
    "\n",
    "Digite um número inteiro positivo para exibir a sua tabela de multiplicação: 5\n",
    "\n",
    "5 x 1 = 5\n",
    "5 x 2 = 10\n",
    "5 x 3 = 15\n",
    "5 x 4 = 20\n",
    "5 x 5 = 25\n",
    "5 x 6 = 30\n",
    "5 x 7 = 35\n",
    "5 x 8 = 40\n",
    "5 x 9 = 45\n",
    "5 x 10 = 50\n",
    "Fim da tabela de multiplicação.\n",
    "\n",
    "\"\"\"\n",
    "print()"
   ]
  },
  {
   "cell_type": "code",
   "execution_count": 39,
   "id": "804e4554-9fed-43bc-bda8-a1288f7d5ea5",
   "metadata": {},
   "outputs": [
    {
     "name": "stdin",
     "output_type": "stream",
     "text": [
      "Digite um número inteiro e positivo, para exibir a sua tabela de multiplicação: 3\n"
     ]
    },
    {
     "name": "stdout",
     "output_type": "stream",
     "text": [
      "3 x 1 = 3\n",
      "3 x 2 = 6\n",
      "3 x 3 = 9\n",
      "3 x 4 = 12\n",
      "3 x 5 = 15\n",
      "3 x 6 = 18\n",
      "3 x 7 = 21\n",
      "3 x 8 = 24\n",
      "3 x 9 = 27\n",
      "3 x 10 = 30\n",
      "Fim da tabela de multiplicação.\n"
     ]
    }
   ],
   "source": [
    "n = int(input(\"Digite um número inteiro e positivo, para exibir a sua tabela de multiplicação:\"))\n",
    "\n",
    "for numero in range  (1, 11):\n",
    "    print(f\"{n} x {numero} = {n*numero}\")\n",
    "print (\"Fim da tabela de multiplicação.\")"
   ]
  },
  {
   "cell_type": "code",
   "execution_count": null,
   "id": "06587d89-eeec-4b01-ad84-eca6f57080b1",
   "metadata": {},
   "outputs": [],
   "source": []
  },
  {
   "cell_type": "code",
   "execution_count": 37,
   "id": "9acdd89e-fd25-4ff3-b0d8-a310d06cae35",
   "metadata": {},
   "outputs": [
    {
     "name": "stdin",
     "output_type": "stream",
     "text": [
      "Digite um número inteiro e positivo, para exibir a sua tabela de multiplicação: 3\n"
     ]
    },
    {
     "name": "stdout",
     "output_type": "stream",
     "text": [
      "3 x 1 = 3\n",
      "3 x 2 = 6\n",
      "3 x 3 = 9\n",
      "3 x 4 = 12\n",
      "3 x 5 = 15\n",
      "3 x 6 = 18\n",
      "3 x 7 = 21\n",
      "3 x 8 = 24\n",
      "3 x 9 = 27\n",
      "3 x 10 = 30\n",
      "Fim da tabela de multiplicação.\n"
     ]
    }
   ],
   "source": [
    "# Método do professor\n",
    "\n",
    "n = int(input(\"Digite um número inteiro e positivo, para exibir a sua tabela de multiplicação:\"))\n",
    "\n",
    "for numero in range  (1, 11):\n",
    "    resultado = n * numero\n",
    "    print(f\"{n} x {numero} = {resultado}\")\n",
    "print (\"Fim da tabela de multiplicação.\")"
   ]
  }
 ],
 "metadata": {
  "kernelspec": {
   "display_name": "Python 3 (ipykernel)",
   "language": "python",
   "name": "python3"
  },
  "language_info": {
   "codemirror_mode": {
    "name": "ipython",
    "version": 3
   },
   "file_extension": ".py",
   "mimetype": "text/x-python",
   "name": "python",
   "nbconvert_exporter": "python",
   "pygments_lexer": "ipython3",
   "version": "3.12.4"
  }
 },
 "nbformat": 4,
 "nbformat_minor": 5
}
