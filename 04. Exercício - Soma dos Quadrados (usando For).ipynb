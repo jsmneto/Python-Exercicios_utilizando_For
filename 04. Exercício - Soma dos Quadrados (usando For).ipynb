{
 "cells": [
  {
   "cell_type": "code",
   "execution_count": 3,
   "id": "2aa92fce-f3bf-431a-aee3-3e7fa543a37f",
   "metadata": {},
   "outputs": [
    {
     "name": "stdout",
     "output_type": "stream",
     "text": [
      "\n"
     ]
    }
   ],
   "source": [
    "\"\"\"\n",
    "Exercício: Soma dos Quadrados\n",
    "\n",
    "Objetivo: Escreva um programa que peça ao usuário um número inteiro positivo NN e \n",
    "calcule a soma dos quadrados de todos os números inteiros de 1 até NN. Utilize um loop \n",
    "for para esta tarefa.\n",
    "\n",
    "Etapas:\n",
    "\n",
    "    - Solicite ao usuário um número inteiro positivo NN.\n",
    "    \n",
    "    - Utilize um loop for para iterar de 1 a NN, calculando o quadrado \n",
    "    de cada número e somando-o a uma variável.\n",
    "    \n",
    "    - Imprima o resultado da soma.\n",
    "\n",
    "Exemplo de Saída:\n",
    "\n",
    "Digite um número inteiro positivo: 5\n",
    "Quadrado de 1: 1\n",
    "Quadrado de 2: 4\n",
    "Quadrado de 3: 9\n",
    "Quadrado de 4: 16\n",
    "Quadrado de 5: 25\n",
    "A soma dos quadrados dos números de 1 até 5 é: 55\n",
    "\n",
    "\n",
    "\"\"\"\n",
    "print()"
   ]
  },
  {
   "cell_type": "code",
   "execution_count": 31,
   "id": "1e3db2a4-a55b-4595-b463-10245488dfb2",
   "metadata": {},
   "outputs": [
    {
     "name": "stdin",
     "output_type": "stream",
     "text": [
      "Digite um número inteiro positivo: 5\n"
     ]
    },
    {
     "name": "stdout",
     "output_type": "stream",
     "text": [
      "Quadrado de 1: 1\n",
      "Quadrado de 2: 4\n",
      "Quadrado de 3: 9\n",
      "Quadrado de 4: 16\n",
      "Quadrado de 5: 25\n",
      "A soma dos quadrados dos números de 1 até 5 é: 55\n"
     ]
    }
   ],
   "source": [
    "n = int(input(\"Digite um número inteiro positivo:\"))\n",
    "soma_quadrados = 0\n",
    "\n",
    "for numero in range (1, n+1):\n",
    "    quadrado = numero**2\n",
    "    print (f\"Quadrado de {numero}: {quadrado}\")\n",
    "    soma_quadrados += quadrado\n",
    "\n",
    "\n",
    "\n",
    "print (\"A soma dos quadrados dos números de 1 até 5 é:\", soma_quadrados)"
   ]
  },
  {
   "cell_type": "code",
   "execution_count": null,
   "id": "ab612c6b-e06f-408a-a6ed-76eb7e1d4031",
   "metadata": {},
   "outputs": [],
   "source": []
  }
 ],
 "metadata": {
  "kernelspec": {
   "display_name": "Python 3 (ipykernel)",
   "language": "python",
   "name": "python3"
  },
  "language_info": {
   "codemirror_mode": {
    "name": "ipython",
    "version": 3
   },
   "file_extension": ".py",
   "mimetype": "text/x-python",
   "name": "python",
   "nbconvert_exporter": "python",
   "pygments_lexer": "ipython3",
   "version": "3.12.4"
  }
 },
 "nbformat": 4,
 "nbformat_minor": 5
}
